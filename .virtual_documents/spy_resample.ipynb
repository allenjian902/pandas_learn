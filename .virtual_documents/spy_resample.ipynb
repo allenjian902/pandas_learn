import pandas as pd, yfinance as yf
spy = yf.download("SPY", period = "5d", interval = "1m", progress = False) 
print(spy.head(10))
spy_15 = spy.resample("15min").agg(
    {"Open": "first", "High": "max", "Low": "min", "Volume": "sum"}
)




