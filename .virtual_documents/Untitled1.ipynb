import pandas as pd, yfinance as yf
spy = yf.download("SPY", period = "5d", interval = "1m", progress = False) 



